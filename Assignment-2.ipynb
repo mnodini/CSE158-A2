{
 "cells": [
  {
   "cell_type": "code",
   "execution_count": 331,
   "id": "35ea5283",
   "metadata": {},
   "outputs": [],
   "source": [
    "import pandas as pd\n",
    "import numpy as np\n",
    "from sklearn.preprocessing import OneHotEncoder\n",
    "from sklearn.linear_model import LinearRegression"
   ]
  },
  {
   "cell_type": "markdown",
   "id": "df4b92fe",
   "metadata": {},
   "source": [
    "# Artist Data"
   ]
  },
  {
   "cell_type": "code",
   "execution_count": 98,
   "id": "84e04827",
   "metadata": {},
   "outputs": [
    {
     "data": {
      "text/html": [
       "<div>\n",
       "<style scoped>\n",
       "    .dataframe tbody tr th:only-of-type {\n",
       "        vertical-align: middle;\n",
       "    }\n",
       "\n",
       "    .dataframe tbody tr th {\n",
       "        vertical-align: top;\n",
       "    }\n",
       "\n",
       "    .dataframe thead th {\n",
       "        text-align: right;\n",
       "    }\n",
       "</style>\n",
       "<table border=\"1\" class=\"dataframe\">\n",
       "  <thead>\n",
       "    <tr style=\"text-align: right;\">\n",
       "      <th></th>\n",
       "      <th>id</th>\n",
       "      <th>name</th>\n",
       "      <th>isdone</th>\n",
       "      <th>spotifyid</th>\n",
       "      <th>genres</th>\n",
       "      <th>popularity</th>\n",
       "      <th>followers</th>\n",
       "    </tr>\n",
       "  </thead>\n",
       "  <tbody>\n",
       "    <tr>\n",
       "      <th>0</th>\n",
       "      <td>600808</td>\n",
       "      <td>Drake</td>\n",
       "      <td>True</td>\n",
       "      <td>3TVXtAsR1Inumwj472S9r4</td>\n",
       "      <td>['canadian hip hop', 'canadian pop', 'hip hop'...</td>\n",
       "      <td>98.0</td>\n",
       "      <td>61377383.0</td>\n",
       "    </tr>\n",
       "    <tr>\n",
       "      <th>1</th>\n",
       "      <td>706819</td>\n",
       "      <td>Ed Sheeran</td>\n",
       "      <td>True</td>\n",
       "      <td>6eUKZXaKkcviH0Ku9w2n3V</td>\n",
       "      <td>['pop', 'uk pop']</td>\n",
       "      <td>95.0</td>\n",
       "      <td>93327682.0</td>\n",
       "    </tr>\n",
       "    <tr>\n",
       "      <th>2</th>\n",
       "      <td>823336</td>\n",
       "      <td>Ariana Grande</td>\n",
       "      <td>True</td>\n",
       "      <td>66CXWjxzNUsdJxJ2JdwvnR</td>\n",
       "      <td>['dance pop', 'pop']</td>\n",
       "      <td>93.0</td>\n",
       "      <td>76626333.0</td>\n",
       "    </tr>\n",
       "    <tr>\n",
       "      <th>3</th>\n",
       "      <td>1492430</td>\n",
       "      <td>Bad Bunny</td>\n",
       "      <td>True</td>\n",
       "      <td>4q3ewBCX7sLwd24euuV69X</td>\n",
       "      <td>['latin', 'reggaeton', 'trap latino']</td>\n",
       "      <td>100.0</td>\n",
       "      <td>44516743.0</td>\n",
       "    </tr>\n",
       "    <tr>\n",
       "      <th>4</th>\n",
       "      <td>796889</td>\n",
       "      <td>The Weeknd</td>\n",
       "      <td>True</td>\n",
       "      <td>1Xyo4u8uXC1ZmMpatF05PJ</td>\n",
       "      <td>['canadian contemporary r&amp;b', 'canadian pop', ...</td>\n",
       "      <td>98.0</td>\n",
       "      <td>42275433.0</td>\n",
       "    </tr>\n",
       "  </tbody>\n",
       "</table>\n",
       "</div>"
      ],
      "text/plain": [
       "        id           name  isdone               spotifyid  \\\n",
       "0   600808          Drake    True  3TVXtAsR1Inumwj472S9r4   \n",
       "1   706819     Ed Sheeran    True  6eUKZXaKkcviH0Ku9w2n3V   \n",
       "2   823336  Ariana Grande    True  66CXWjxzNUsdJxJ2JdwvnR   \n",
       "3  1492430      Bad Bunny    True  4q3ewBCX7sLwd24euuV69X   \n",
       "4   796889     The Weeknd    True  1Xyo4u8uXC1ZmMpatF05PJ   \n",
       "\n",
       "                                              genres  popularity   followers  \n",
       "0  ['canadian hip hop', 'canadian pop', 'hip hop'...        98.0  61377383.0  \n",
       "1                                  ['pop', 'uk pop']        95.0  93327682.0  \n",
       "2                               ['dance pop', 'pop']        93.0  76626333.0  \n",
       "3              ['latin', 'reggaeton', 'trap latino']       100.0  44516743.0  \n",
       "4  ['canadian contemporary r&b', 'canadian pop', ...        98.0  42275433.0  "
      ]
     },
     "execution_count": 98,
     "metadata": {},
     "output_type": "execute_result"
    }
   ],
   "source": [
    "# spotify_df = pd.read_csv('data_w_spotify.csv')\n",
    "spotify_df.head()"
   ]
  },
  {
   "cell_type": "markdown",
   "id": "c934ad5a",
   "metadata": {},
   "source": [
    "# Number of Weeks on Chart"
   ]
  },
  {
   "cell_type": "code",
   "execution_count": 34,
   "id": "0a387312",
   "metadata": {},
   "outputs": [
    {
     "data": {
      "text/html": [
       "<div>\n",
       "<style scoped>\n",
       "    .dataframe tbody tr th:only-of-type {\n",
       "        vertical-align: middle;\n",
       "    }\n",
       "\n",
       "    .dataframe tbody tr th {\n",
       "        vertical-align: top;\n",
       "    }\n",
       "\n",
       "    .dataframe thead th {\n",
       "        text-align: right;\n",
       "    }\n",
       "</style>\n",
       "<table border=\"1\" class=\"dataframe\">\n",
       "  <thead>\n",
       "    <tr style=\"text-align: right;\">\n",
       "      <th></th>\n",
       "      <th>date</th>\n",
       "      <th>rank</th>\n",
       "      <th>song</th>\n",
       "      <th>artist</th>\n",
       "      <th>last-week</th>\n",
       "      <th>peak-rank</th>\n",
       "      <th>weeks-on-board</th>\n",
       "    </tr>\n",
       "  </thead>\n",
       "  <tbody>\n",
       "    <tr>\n",
       "      <th>0</th>\n",
       "      <td>2021-11-06</td>\n",
       "      <td>1</td>\n",
       "      <td>Easy On Me</td>\n",
       "      <td>Adele</td>\n",
       "      <td>1.0</td>\n",
       "      <td>1</td>\n",
       "      <td>3</td>\n",
       "    </tr>\n",
       "    <tr>\n",
       "      <th>1</th>\n",
       "      <td>2021-11-06</td>\n",
       "      <td>2</td>\n",
       "      <td>Stay</td>\n",
       "      <td>The Kid LAROI &amp; Justin Bieber</td>\n",
       "      <td>2.0</td>\n",
       "      <td>1</td>\n",
       "      <td>16</td>\n",
       "    </tr>\n",
       "    <tr>\n",
       "      <th>2</th>\n",
       "      <td>2021-11-06</td>\n",
       "      <td>3</td>\n",
       "      <td>Industry Baby</td>\n",
       "      <td>Lil Nas X &amp; Jack Harlow</td>\n",
       "      <td>3.0</td>\n",
       "      <td>1</td>\n",
       "      <td>14</td>\n",
       "    </tr>\n",
       "    <tr>\n",
       "      <th>3</th>\n",
       "      <td>2021-11-06</td>\n",
       "      <td>4</td>\n",
       "      <td>Fancy Like</td>\n",
       "      <td>Walker Hayes</td>\n",
       "      <td>4.0</td>\n",
       "      <td>3</td>\n",
       "      <td>19</td>\n",
       "    </tr>\n",
       "    <tr>\n",
       "      <th>4</th>\n",
       "      <td>2021-11-06</td>\n",
       "      <td>5</td>\n",
       "      <td>Bad Habits</td>\n",
       "      <td>Ed Sheeran</td>\n",
       "      <td>5.0</td>\n",
       "      <td>2</td>\n",
       "      <td>18</td>\n",
       "    </tr>\n",
       "    <tr>\n",
       "      <th>...</th>\n",
       "      <td>...</td>\n",
       "      <td>...</td>\n",
       "      <td>...</td>\n",
       "      <td>...</td>\n",
       "      <td>...</td>\n",
       "      <td>...</td>\n",
       "      <td>...</td>\n",
       "    </tr>\n",
       "    <tr>\n",
       "      <th>330082</th>\n",
       "      <td>1958-08-04</td>\n",
       "      <td>96</td>\n",
       "      <td>Over And Over</td>\n",
       "      <td>Thurston Harris</td>\n",
       "      <td>NaN</td>\n",
       "      <td>96</td>\n",
       "      <td>1</td>\n",
       "    </tr>\n",
       "    <tr>\n",
       "      <th>330083</th>\n",
       "      <td>1958-08-04</td>\n",
       "      <td>97</td>\n",
       "      <td>I Believe In You</td>\n",
       "      <td>Robert &amp; Johnny</td>\n",
       "      <td>NaN</td>\n",
       "      <td>97</td>\n",
       "      <td>1</td>\n",
       "    </tr>\n",
       "    <tr>\n",
       "      <th>330084</th>\n",
       "      <td>1958-08-04</td>\n",
       "      <td>98</td>\n",
       "      <td>Little Serenade</td>\n",
       "      <td>The Ames Brothers</td>\n",
       "      <td>NaN</td>\n",
       "      <td>98</td>\n",
       "      <td>1</td>\n",
       "    </tr>\n",
       "    <tr>\n",
       "      <th>330085</th>\n",
       "      <td>1958-08-04</td>\n",
       "      <td>99</td>\n",
       "      <td>I'll Get By (As Long As I Have You)</td>\n",
       "      <td>Billy Williams</td>\n",
       "      <td>NaN</td>\n",
       "      <td>99</td>\n",
       "      <td>1</td>\n",
       "    </tr>\n",
       "    <tr>\n",
       "      <th>330086</th>\n",
       "      <td>1958-08-04</td>\n",
       "      <td>100</td>\n",
       "      <td>Judy</td>\n",
       "      <td>Frankie Vaughan</td>\n",
       "      <td>NaN</td>\n",
       "      <td>100</td>\n",
       "      <td>1</td>\n",
       "    </tr>\n",
       "  </tbody>\n",
       "</table>\n",
       "<p>330087 rows × 7 columns</p>\n",
       "</div>"
      ],
      "text/plain": [
       "              date  rank                                 song  \\\n",
       "0       2021-11-06     1                           Easy On Me   \n",
       "1       2021-11-06     2                                 Stay   \n",
       "2       2021-11-06     3                        Industry Baby   \n",
       "3       2021-11-06     4                           Fancy Like   \n",
       "4       2021-11-06     5                           Bad Habits   \n",
       "...            ...   ...                                  ...   \n",
       "330082  1958-08-04    96                        Over And Over   \n",
       "330083  1958-08-04    97                     I Believe In You   \n",
       "330084  1958-08-04    98                      Little Serenade   \n",
       "330085  1958-08-04    99  I'll Get By (As Long As I Have You)   \n",
       "330086  1958-08-04   100                                 Judy   \n",
       "\n",
       "                               artist  last-week  peak-rank  weeks-on-board  \n",
       "0                               Adele        1.0          1               3  \n",
       "1       The Kid LAROI & Justin Bieber        2.0          1              16  \n",
       "2             Lil Nas X & Jack Harlow        3.0          1              14  \n",
       "3                        Walker Hayes        4.0          3              19  \n",
       "4                          Ed Sheeran        5.0          2              18  \n",
       "...                               ...        ...        ...             ...  \n",
       "330082                Thurston Harris        NaN         96               1  \n",
       "330083                Robert & Johnny        NaN         97               1  \n",
       "330084              The Ames Brothers        NaN         98               1  \n",
       "330085                 Billy Williams        NaN         99               1  \n",
       "330086                Frankie Vaughan        NaN        100               1  \n",
       "\n",
       "[330087 rows x 7 columns]"
      ]
     },
     "execution_count": 34,
     "metadata": {},
     "output_type": "execute_result"
    }
   ],
   "source": [
    "charts = pd.read_csv('charts.csv')\n",
    "charts['year'] = pd.to_datetime(charts['date']).apply(lambda x: x.year)\n",
    "charts"
   ]
  },
  {
   "cell_type": "code",
   "execution_count": 53,
   "id": "b9769f52",
   "metadata": {},
   "outputs": [],
   "source": [
    "song_info = pd.read_csv('dataset.csv').drop_duplicates(subset='track_id').set_index('track_id')"
   ]
  },
  {
   "cell_type": "code",
   "execution_count": 54,
   "id": "8c76fd19",
   "metadata": {
    "scrolled": false
   },
   "outputs": [
    {
     "data": {
      "text/html": [
       "<div>\n",
       "<style scoped>\n",
       "    .dataframe tbody tr th:only-of-type {\n",
       "        vertical-align: middle;\n",
       "    }\n",
       "\n",
       "    .dataframe tbody tr th {\n",
       "        vertical-align: top;\n",
       "    }\n",
       "\n",
       "    .dataframe thead th {\n",
       "        text-align: right;\n",
       "    }\n",
       "</style>\n",
       "<table border=\"1\" class=\"dataframe\">\n",
       "  <thead>\n",
       "    <tr style=\"text-align: right;\">\n",
       "      <th></th>\n",
       "      <th>Unnamed: 0</th>\n",
       "      <th>artists</th>\n",
       "      <th>album_name</th>\n",
       "      <th>track_name</th>\n",
       "      <th>popularity</th>\n",
       "      <th>duration_ms</th>\n",
       "      <th>explicit</th>\n",
       "      <th>danceability</th>\n",
       "      <th>energy</th>\n",
       "      <th>key</th>\n",
       "      <th>loudness</th>\n",
       "      <th>mode</th>\n",
       "      <th>speechiness</th>\n",
       "      <th>acousticness</th>\n",
       "      <th>instrumentalness</th>\n",
       "      <th>liveness</th>\n",
       "      <th>valence</th>\n",
       "      <th>tempo</th>\n",
       "      <th>time_signature</th>\n",
       "      <th>track_genre</th>\n",
       "    </tr>\n",
       "    <tr>\n",
       "      <th>track_id</th>\n",
       "      <th></th>\n",
       "      <th></th>\n",
       "      <th></th>\n",
       "      <th></th>\n",
       "      <th></th>\n",
       "      <th></th>\n",
       "      <th></th>\n",
       "      <th></th>\n",
       "      <th></th>\n",
       "      <th></th>\n",
       "      <th></th>\n",
       "      <th></th>\n",
       "      <th></th>\n",
       "      <th></th>\n",
       "      <th></th>\n",
       "      <th></th>\n",
       "      <th></th>\n",
       "      <th></th>\n",
       "      <th></th>\n",
       "      <th></th>\n",
       "    </tr>\n",
       "  </thead>\n",
       "  <tbody>\n",
       "    <tr>\n",
       "      <th>5SuOikwiRyPMVoIQDJUgSV</th>\n",
       "      <td>0</td>\n",
       "      <td>Gen Hoshino</td>\n",
       "      <td>Comedy</td>\n",
       "      <td>Comedy</td>\n",
       "      <td>73</td>\n",
       "      <td>230666</td>\n",
       "      <td>False</td>\n",
       "      <td>0.676</td>\n",
       "      <td>0.4610</td>\n",
       "      <td>1</td>\n",
       "      <td>-6.746</td>\n",
       "      <td>0</td>\n",
       "      <td>0.1430</td>\n",
       "      <td>0.0322</td>\n",
       "      <td>0.000001</td>\n",
       "      <td>0.3580</td>\n",
       "      <td>0.715</td>\n",
       "      <td>87.917</td>\n",
       "      <td>4</td>\n",
       "      <td>acoustic</td>\n",
       "    </tr>\n",
       "    <tr>\n",
       "      <th>4qPNDBW1i3p13qLCt0Ki3A</th>\n",
       "      <td>1</td>\n",
       "      <td>Ben Woodward</td>\n",
       "      <td>Ghost (Acoustic)</td>\n",
       "      <td>Ghost - Acoustic</td>\n",
       "      <td>55</td>\n",
       "      <td>149610</td>\n",
       "      <td>False</td>\n",
       "      <td>0.420</td>\n",
       "      <td>0.1660</td>\n",
       "      <td>1</td>\n",
       "      <td>-17.235</td>\n",
       "      <td>1</td>\n",
       "      <td>0.0763</td>\n",
       "      <td>0.9240</td>\n",
       "      <td>0.000006</td>\n",
       "      <td>0.1010</td>\n",
       "      <td>0.267</td>\n",
       "      <td>77.489</td>\n",
       "      <td>4</td>\n",
       "      <td>acoustic</td>\n",
       "    </tr>\n",
       "    <tr>\n",
       "      <th>1iJBSr7s7jYXzM8EGcbK5b</th>\n",
       "      <td>2</td>\n",
       "      <td>Ingrid Michaelson;ZAYN</td>\n",
       "      <td>To Begin Again</td>\n",
       "      <td>To Begin Again</td>\n",
       "      <td>57</td>\n",
       "      <td>210826</td>\n",
       "      <td>False</td>\n",
       "      <td>0.438</td>\n",
       "      <td>0.3590</td>\n",
       "      <td>0</td>\n",
       "      <td>-9.734</td>\n",
       "      <td>1</td>\n",
       "      <td>0.0557</td>\n",
       "      <td>0.2100</td>\n",
       "      <td>0.000000</td>\n",
       "      <td>0.1170</td>\n",
       "      <td>0.120</td>\n",
       "      <td>76.332</td>\n",
       "      <td>4</td>\n",
       "      <td>acoustic</td>\n",
       "    </tr>\n",
       "    <tr>\n",
       "      <th>6lfxq3CG4xtTiEg7opyCyx</th>\n",
       "      <td>3</td>\n",
       "      <td>Kina Grannis</td>\n",
       "      <td>Crazy Rich Asians (Original Motion Picture Sou...</td>\n",
       "      <td>Can't Help Falling In Love</td>\n",
       "      <td>71</td>\n",
       "      <td>201933</td>\n",
       "      <td>False</td>\n",
       "      <td>0.266</td>\n",
       "      <td>0.0596</td>\n",
       "      <td>0</td>\n",
       "      <td>-18.515</td>\n",
       "      <td>1</td>\n",
       "      <td>0.0363</td>\n",
       "      <td>0.9050</td>\n",
       "      <td>0.000071</td>\n",
       "      <td>0.1320</td>\n",
       "      <td>0.143</td>\n",
       "      <td>181.740</td>\n",
       "      <td>3</td>\n",
       "      <td>acoustic</td>\n",
       "    </tr>\n",
       "    <tr>\n",
       "      <th>5vjLSffimiIP26QG5WcN2K</th>\n",
       "      <td>4</td>\n",
       "      <td>Chord Overstreet</td>\n",
       "      <td>Hold On</td>\n",
       "      <td>Hold On</td>\n",
       "      <td>82</td>\n",
       "      <td>198853</td>\n",
       "      <td>False</td>\n",
       "      <td>0.618</td>\n",
       "      <td>0.4430</td>\n",
       "      <td>2</td>\n",
       "      <td>-9.681</td>\n",
       "      <td>1</td>\n",
       "      <td>0.0526</td>\n",
       "      <td>0.4690</td>\n",
       "      <td>0.000000</td>\n",
       "      <td>0.0829</td>\n",
       "      <td>0.167</td>\n",
       "      <td>119.949</td>\n",
       "      <td>4</td>\n",
       "      <td>acoustic</td>\n",
       "    </tr>\n",
       "  </tbody>\n",
       "</table>\n",
       "</div>"
      ],
      "text/plain": [
       "                        Unnamed: 0                 artists  \\\n",
       "track_id                                                     \n",
       "5SuOikwiRyPMVoIQDJUgSV           0             Gen Hoshino   \n",
       "4qPNDBW1i3p13qLCt0Ki3A           1            Ben Woodward   \n",
       "1iJBSr7s7jYXzM8EGcbK5b           2  Ingrid Michaelson;ZAYN   \n",
       "6lfxq3CG4xtTiEg7opyCyx           3            Kina Grannis   \n",
       "5vjLSffimiIP26QG5WcN2K           4        Chord Overstreet   \n",
       "\n",
       "                                                               album_name  \\\n",
       "track_id                                                                    \n",
       "5SuOikwiRyPMVoIQDJUgSV                                             Comedy   \n",
       "4qPNDBW1i3p13qLCt0Ki3A                                   Ghost (Acoustic)   \n",
       "1iJBSr7s7jYXzM8EGcbK5b                                     To Begin Again   \n",
       "6lfxq3CG4xtTiEg7opyCyx  Crazy Rich Asians (Original Motion Picture Sou...   \n",
       "5vjLSffimiIP26QG5WcN2K                                            Hold On   \n",
       "\n",
       "                                        track_name  popularity  duration_ms  \\\n",
       "track_id                                                                      \n",
       "5SuOikwiRyPMVoIQDJUgSV                      Comedy          73       230666   \n",
       "4qPNDBW1i3p13qLCt0Ki3A            Ghost - Acoustic          55       149610   \n",
       "1iJBSr7s7jYXzM8EGcbK5b              To Begin Again          57       210826   \n",
       "6lfxq3CG4xtTiEg7opyCyx  Can't Help Falling In Love          71       201933   \n",
       "5vjLSffimiIP26QG5WcN2K                     Hold On          82       198853   \n",
       "\n",
       "                        explicit  danceability  energy  key  loudness  mode  \\\n",
       "track_id                                                                      \n",
       "5SuOikwiRyPMVoIQDJUgSV     False         0.676  0.4610    1    -6.746     0   \n",
       "4qPNDBW1i3p13qLCt0Ki3A     False         0.420  0.1660    1   -17.235     1   \n",
       "1iJBSr7s7jYXzM8EGcbK5b     False         0.438  0.3590    0    -9.734     1   \n",
       "6lfxq3CG4xtTiEg7opyCyx     False         0.266  0.0596    0   -18.515     1   \n",
       "5vjLSffimiIP26QG5WcN2K     False         0.618  0.4430    2    -9.681     1   \n",
       "\n",
       "                        speechiness  acousticness  instrumentalness  liveness  \\\n",
       "track_id                                                                        \n",
       "5SuOikwiRyPMVoIQDJUgSV       0.1430        0.0322          0.000001    0.3580   \n",
       "4qPNDBW1i3p13qLCt0Ki3A       0.0763        0.9240          0.000006    0.1010   \n",
       "1iJBSr7s7jYXzM8EGcbK5b       0.0557        0.2100          0.000000    0.1170   \n",
       "6lfxq3CG4xtTiEg7opyCyx       0.0363        0.9050          0.000071    0.1320   \n",
       "5vjLSffimiIP26QG5WcN2K       0.0526        0.4690          0.000000    0.0829   \n",
       "\n",
       "                        valence    tempo  time_signature track_genre  \n",
       "track_id                                                              \n",
       "5SuOikwiRyPMVoIQDJUgSV    0.715   87.917               4    acoustic  \n",
       "4qPNDBW1i3p13qLCt0Ki3A    0.267   77.489               4    acoustic  \n",
       "1iJBSr7s7jYXzM8EGcbK5b    0.120   76.332               4    acoustic  \n",
       "6lfxq3CG4xtTiEg7opyCyx    0.143  181.740               3    acoustic  \n",
       "5vjLSffimiIP26QG5WcN2K    0.167  119.949               4    acoustic  "
      ]
     },
     "execution_count": 54,
     "metadata": {},
     "output_type": "execute_result"
    }
   ],
   "source": [
    "song_info.head()"
   ]
  },
  {
   "cell_type": "code",
   "execution_count": 48,
   "id": "5f28918e",
   "metadata": {},
   "outputs": [],
   "source": [
    "merged = pd.merge(charts,song_info,how='inner',left_on='song',right_on='track_name')"
   ]
  },
  {
   "cell_type": "markdown",
   "id": "199d8fd5",
   "metadata": {},
   "source": [
    "# Encoders for feature vector"
   ]
  },
  {
   "cell_type": "code",
   "execution_count": 143,
   "id": "b8ba1e16",
   "metadata": {},
   "outputs": [
    {
     "data": {
      "text/plain": [
       "OneHotEncoder()"
      ]
     },
     "execution_count": 143,
     "metadata": {},
     "output_type": "execute_result"
    }
   ],
   "source": [
    "#OHE for year\n",
    "OHEyear = OneHotEncoder()\n",
    "OHEyear.fit(merged['year'].unique().reshape(-1,1))"
   ]
  },
  {
   "cell_type": "code",
   "execution_count": 197,
   "id": "3e805e96",
   "metadata": {},
   "outputs": [
    {
     "data": {
      "text/plain": [
       "OneHotEncoder()"
      ]
     },
     "execution_count": 197,
     "metadata": {},
     "output_type": "execute_result"
    }
   ],
   "source": [
    "#OHE for key\n",
    "OHEkey = OneHotEncoder()\n",
    "OHEkey.fit(merged['key'].unique().reshape(-1,1))"
   ]
  },
  {
   "cell_type": "code",
   "execution_count": 199,
   "id": "8d9e9d64",
   "metadata": {},
   "outputs": [
    {
     "data": {
      "text/plain": [
       "OneHotEncoder()"
      ]
     },
     "execution_count": 199,
     "metadata": {},
     "output_type": "execute_result"
    }
   ],
   "source": [
    "#OHE for time signature\n",
    "OHEtime_sig = OneHotEncoder()\n",
    "OHEtime_sig.fit(merged['time_signature'].unique().reshape(-1,1))"
   ]
  },
  {
   "cell_type": "code",
   "execution_count": 200,
   "id": "50a7aa39",
   "metadata": {},
   "outputs": [
    {
     "data": {
      "text/plain": [
       "OneHotEncoder()"
      ]
     },
     "execution_count": 200,
     "metadata": {},
     "output_type": "execute_result"
    }
   ],
   "source": [
    "#OHE for track genre\n",
    "OHEgenre = OneHotEncoder()\n",
    "OHEgenre.fit(merged['track_genre'].unique().reshape(-1,1))"
   ]
  },
  {
   "cell_type": "code",
   "execution_count": 255,
   "id": "9cfee85b",
   "metadata": {},
   "outputs": [
    {
     "data": {
      "text/plain": [
       "array([[0., 0., 0., ..., 0., 0., 0.],\n",
       "       [0., 0., 0., ..., 0., 0., 0.],\n",
       "       [0., 0., 0., ..., 0., 0., 0.],\n",
       "       ...,\n",
       "       [0., 0., 0., ..., 0., 0., 0.],\n",
       "       [0., 0., 0., ..., 0., 0., 0.],\n",
       "       [0., 0., 0., ..., 0., 0., 0.]])"
      ]
     },
     "execution_count": 255,
     "metadata": {},
     "output_type": "execute_result"
    }
   ],
   "source": [
    "OHEgenre.transform(np.array(merged['track_genre']).reshape(-1,1)).toarray()"
   ]
  },
  {
   "cell_type": "code",
   "execution_count": 198,
   "id": "e9de359f",
   "metadata": {},
   "outputs": [
    {
     "data": {
      "text/plain": [
       "Index(['date', 'rank', 'song', 'artist', 'last-week', 'peak-rank',\n",
       "       'weeks-on-board', 'year', 'Unnamed: 0', 'artists', 'album_name',\n",
       "       'track_name', 'popularity', 'duration_ms', 'explicit', 'danceability',\n",
       "       'energy', 'key', 'loudness', 'mode', 'speechiness', 'acousticness',\n",
       "       'instrumentalness', 'liveness', 'valence', 'tempo', 'time_signature',\n",
       "       'track_genre'],\n",
       "      dtype='object')"
      ]
     },
     "execution_count": 198,
     "metadata": {},
     "output_type": "execute_result"
    }
   ],
   "source": [
    "merged.columns"
   ]
  },
  {
   "cell_type": "code",
   "execution_count": 71,
   "id": "7e60e54c",
   "metadata": {},
   "outputs": [],
   "source": [
    "song_artist_df = merged.groupby(['song','artist']).max()"
   ]
  },
  {
   "cell_type": "code",
   "execution_count": 76,
   "id": "845b1b76",
   "metadata": {},
   "outputs": [],
   "source": [
    "train, validate, test = np.split(song_artist_df.sample(frac=1, random_state=42), [int(.6*len(song_artist_df)), int(.8*len(song_artist_df))])"
   ]
  },
  {
   "cell_type": "markdown",
   "id": "451c4d41",
   "metadata": {},
   "source": [
    "# Baseline Mean Model"
   ]
  },
  {
   "cell_type": "code",
   "execution_count": 112,
   "id": "214afed5",
   "metadata": {},
   "outputs": [
    {
     "data": {
      "text/plain": [
       "13.174507168458781"
      ]
     },
     "execution_count": 112,
     "metadata": {},
     "output_type": "execute_result"
    }
   ],
   "source": [
    "trainMean = train['weeks-on-board'].mean()\n",
    "trainMean"
   ]
  },
  {
   "cell_type": "code",
   "execution_count": 122,
   "id": "9b670ad7",
   "metadata": {},
   "outputs": [
    {
     "data": {
      "text/plain": [
       "99.41982068214382"
      ]
     },
     "execution_count": 122,
     "metadata": {},
     "output_type": "execute_result"
    }
   ],
   "source": [
    "baseline_MSE_validation = np.mean((validate['weeks-on-board'] - trainMean) ** 2)\n",
    "baseline_MSE_validation"
   ]
  },
  {
   "cell_type": "code",
   "execution_count": 123,
   "id": "23c13625",
   "metadata": {},
   "outputs": [
    {
     "data": {
      "text/plain": [
       "99.75639821571141"
      ]
     },
     "execution_count": 123,
     "metadata": {},
     "output_type": "execute_result"
    }
   ],
   "source": [
    "baseline_MSE_test = np.mean((test['weeks-on-board'] - trainMean) ** 2)\n",
    "baseline_MSE_test"
   ]
  },
  {
   "cell_type": "markdown",
   "id": "468b0df4",
   "metadata": {},
   "source": [
    "# Our Model"
   ]
  },
  {
   "cell_type": "code",
   "execution_count": 229,
   "id": "6199ebef",
   "metadata": {},
   "outputs": [],
   "source": [
    "def Zscore_features(features):\n",
    "    mean_dict = dict()\n",
    "    std_dict = dict()\n",
    "    for feature in features:\n",
    "        mu = train[feature].mean()\n",
    "        sigma = train[feature].std()\n",
    "        mean_dict[feature] = mu\n",
    "        std_dict[feature] = sigma\n",
    "    return (mean_dict,std_dict)"
   ]
  },
  {
   "cell_type": "code",
   "execution_count": 413,
   "id": "95f410e9",
   "metadata": {},
   "outputs": [],
   "source": [
    "def Zscore(feature,row):\n",
    "    return (row[feature] - mean_dict[feature]) / std_dict[feature]"
   ]
  },
  {
   "cell_type": "code",
   "execution_count": 419,
   "id": "81ee49f8",
   "metadata": {},
   "outputs": [],
   "source": [
    "#Features we want to use:\n",
    "#Make a model with OHE values based on threshold vs raw values\n",
    "#year, duration_ms, danceability, energy, key, loudness, mode, speechiness, acoustincess, intrumentalness, liveness, valence, tempo, time_signature OHE, track_genre OHE\n",
    "\n",
    "def feature_num_weeks(row):\n",
    "    #Zscore prep\n",
    "    mean_dict, std_dict = Zscore_features(['duration_ms','danceability','energy','loudness','speechiness','acousticness','instrumentalness','liveness','valence','tempo','weeks-on-board'])\n",
    "    feat = [1]\n",
    "    #training mean\n",
    "#     feat.append(trainMean)\n",
    "    #duration_ms\n",
    "    feat.append(Zscore('duration_ms',row)) \n",
    "    #danceability\n",
    "    feat.append(Zscore('danceability',row))\n",
    "    #energy\n",
    "    feat.append(Zscore('energy',row))\n",
    "    #loudness\n",
    "    feat.append(Zscore('loudness',row))\n",
    "    #mode\n",
    "    feat.append(row['mode'])\n",
    "    #speechiness\n",
    "    feat.append(Zscore('speechiness',row))\n",
    "    #acousticness\n",
    "    feat.append(Zscore('acousticness',row))\n",
    "    #instrumentalness\n",
    "    feat.append(Zscore('instrumentalness',row))\n",
    "    #liveness\n",
    "    feat.append(Zscore('liveness',row))\n",
    "    #valence\n",
    "    feat.append(Zscore('valence',row))\n",
    "    #tempo\n",
    "    feat.append(Zscore('tempo',row))\n",
    "    #year one hot encoding\n",
    "    feat += list(OHEyear.transform(np.array(row['year']).reshape(-1,1)).toarray()[0].astype(int))\n",
    "    #key\n",
    "    feat += list(OHEkey.transform(np.array(row['key']).reshape(-1,1)).toarray()[0].astype(int))\n",
    "    #time signature\n",
    "    feat += list(OHEtime_sig.transform(np.array(row['time_signature']).reshape(-1,1)).toarray()[0].astype(int))\n",
    "    #track genre\n",
    "    feat += list(OHEgenre.transform(np.array(row['track_genre']).reshape(-1,1)).toarray()[0].astype(int))\n",
    "    return feat\n",
    "    \n",
    "    "
   ]
  },
  {
   "cell_type": "code",
   "execution_count": 421,
   "id": "a31c8837",
   "metadata": {},
   "outputs": [],
   "source": [
    "Ytrain = list(train.apply(lambda x: x['weeks-on-board'],axis=1).values)"
   ]
  },
  {
   "cell_type": "code",
   "execution_count": 422,
   "id": "dc8acd1f",
   "metadata": {},
   "outputs": [],
   "source": [
    "Xtrain = list(train.apply(feature_num_weeks,axis=1).values)"
   ]
  },
  {
   "cell_type": "code",
   "execution_count": 423,
   "id": "f5dcc43f",
   "metadata": {},
   "outputs": [],
   "source": [
    "LR = LinearRegression().fit(Xtrain, Ytrain)"
   ]
  },
  {
   "cell_type": "code",
   "execution_count": 430,
   "id": "0ca0fdd3",
   "metadata": {},
   "outputs": [],
   "source": [
    "coeff_labels = ['intercept','duration_ms','danceability','energy','loudness','mode','speechiness','acousticness','instrumentalness','liveness','valence','tempo']"
   ]
  },
  {
   "cell_type": "code",
   "execution_count": 431,
   "id": "91911cc4",
   "metadata": {},
   "outputs": [
    {
     "data": {
      "text/plain": [
       "array([ 4.18151319e+08,  8.69913539e-02,  4.50017717e-01,  2.01120749e-01,\n",
       "       -1.93620079e-02,  4.53335756e-01, -4.26626727e-01,  3.12277570e-02,\n",
       "       -9.10567127e-01, -1.45232915e-02,  1.18079973e-01, -1.53780270e-01])"
      ]
     },
     "execution_count": 431,
     "metadata": {},
     "output_type": "execute_result"
    }
   ],
   "source": [
    "LR.coef_[:12]"
   ]
  },
  {
   "cell_type": "code",
   "execution_count": 432,
   "id": "1aa9ceca",
   "metadata": {},
   "outputs": [
    {
     "data": {
      "text/plain": [
       "[(418151318.8606857, 'intercept'),\n",
       " (0.08699135387382034, 'duration_ms'),\n",
       " (0.4500177169154197, 'danceability'),\n",
       " (0.20112074897058338, 'energy'),\n",
       " (-0.019362007933029002, 'loudness'),\n",
       " (0.4533357563985574, 'mode'),\n",
       " (-0.42662672658739975, 'speechiness'),\n",
       " (0.031227756986988764, 'acousticness'),\n",
       " (-0.9105671267236923, 'instrumentalness'),\n",
       " (-0.01452329154392129, 'liveness'),\n",
       " (0.11807997267168213, 'valence'),\n",
       " (-0.15378026954276725, 'tempo')]"
      ]
     },
     "execution_count": 432,
     "metadata": {},
     "output_type": "execute_result"
    }
   ],
   "source": [
    "list(zip(LR.coef_[:12],coeff_labels))"
   ]
  },
  {
   "cell_type": "code",
   "execution_count": 427,
   "id": "bd72dc3e",
   "metadata": {},
   "outputs": [
    {
     "data": {
      "text/plain": [
       "89.42835206647928"
      ]
     },
     "execution_count": 427,
     "metadata": {},
     "output_type": "execute_result"
    }
   ],
   "source": [
    "np.mean((LR.predict(Xtrain) - Ytrain) ** 2)"
   ]
  },
  {
   "cell_type": "code",
   "execution_count": 428,
   "id": "8b8da5c9",
   "metadata": {},
   "outputs": [],
   "source": [
    "#Validation\n",
    "Xvalid = list(validate.apply(feature_num_weeks,axis=1).values)\n",
    "Yvalid = list(validate.apply(lambda x: x['weeks-on-board'],axis=1).values)"
   ]
  },
  {
   "cell_type": "code",
   "execution_count": 429,
   "id": "c23cdf51",
   "metadata": {},
   "outputs": [
    {
     "data": {
      "text/plain": [
       "90.85180426925741"
      ]
     },
     "execution_count": 429,
     "metadata": {},
     "output_type": "execute_result"
    }
   ],
   "source": [
    "np.mean((LR.predict(Xvalid) - Yvalid) ** 2)"
   ]
  },
  {
   "cell_type": "markdown",
   "id": "a4d26469",
   "metadata": {},
   "source": [
    "# Data Exploration"
   ]
  },
  {
   "cell_type": "code",
   "execution_count": 91,
   "id": "2c895a1b",
   "metadata": {},
   "outputs": [
    {
     "data": {
      "text/plain": [
       "0.08089024989745469"
      ]
     },
     "execution_count": 91,
     "metadata": {},
     "output_type": "execute_result"
    }
   ],
   "source": [
    "#Only 8% of songs are explicit, that will add irrelevant weights to that feature so we're not including it\n",
    "merged['explicit'].mean()"
   ]
  },
  {
   "cell_type": "code",
   "execution_count": 92,
   "id": "377c7e44",
   "metadata": {},
   "outputs": [
    {
     "data": {
      "text/plain": [
       "0.6269824123041854"
      ]
     },
     "execution_count": 92,
     "metadata": {},
     "output_type": "execute_result"
    }
   ],
   "source": [
    "merged['mode'].mean()"
   ]
  },
  {
   "cell_type": "code",
   "execution_count": 39,
   "id": "f6e763c2",
   "metadata": {},
   "outputs": [
    {
     "data": {
      "text/plain": [
       "<AxesSubplot:xlabel='year'>"
      ]
     },
     "execution_count": 39,
     "metadata": {},
     "output_type": "execute_result"
    },
    {
     "data": {
      "image/png": "[encoded data removed]",
      "text/plain": [
       "<Figure size 432x288 with 1 Axes>"
      ]
     },
     "metadata": {
      "needs_background": "light"
     },
     "output_type": "display_data"
    }
   ],
   "source": [
    "#Definitely want to OHE year\n",
    "charts.groupby('year').mean()['weeks-on-board'].plot()"
   ]
  },
  {
   "cell_type": "code",
   "execution_count": 17,
   "id": "a5357c8d",
   "metadata": {},
   "outputs": [
    {
     "data": {
      "text/html": [
       "<div>\n",
       "<style scoped>\n",
       "    .dataframe tbody tr th:only-of-type {\n",
       "        vertical-align: middle;\n",
       "    }\n",
       "\n",
       "    .dataframe tbody tr th {\n",
       "        vertical-align: top;\n",
       "    }\n",
       "\n",
       "    .dataframe thead th {\n",
       "        text-align: right;\n",
       "    }\n",
       "</style>\n",
       "<table border=\"1\" class=\"dataframe\">\n",
       "  <thead>\n",
       "    <tr style=\"text-align: right;\">\n",
       "      <th></th>\n",
       "      <th>date</th>\n",
       "      <th>rank</th>\n",
       "      <th>song</th>\n",
       "      <th>artist</th>\n",
       "      <th>last-week</th>\n",
       "      <th>peak-rank</th>\n",
       "      <th>weeks-on-board</th>\n",
       "    </tr>\n",
       "  </thead>\n",
       "  <tbody>\n",
       "    <tr>\n",
       "      <th>0</th>\n",
       "      <td>2021-11-06</td>\n",
       "      <td>1</td>\n",
       "      <td>Easy On Me</td>\n",
       "      <td>Adele</td>\n",
       "      <td>1.0</td>\n",
       "      <td>1</td>\n",
       "      <td>3</td>\n",
       "    </tr>\n",
       "    <tr>\n",
       "      <th>1</th>\n",
       "      <td>2021-11-06</td>\n",
       "      <td>2</td>\n",
       "      <td>Stay</td>\n",
       "      <td>The Kid LAROI &amp; Justin Bieber</td>\n",
       "      <td>2.0</td>\n",
       "      <td>1</td>\n",
       "      <td>16</td>\n",
       "    </tr>\n",
       "    <tr>\n",
       "      <th>2</th>\n",
       "      <td>2021-11-06</td>\n",
       "      <td>3</td>\n",
       "      <td>Industry Baby</td>\n",
       "      <td>Lil Nas X &amp; Jack Harlow</td>\n",
       "      <td>3.0</td>\n",
       "      <td>1</td>\n",
       "      <td>14</td>\n",
       "    </tr>\n",
       "    <tr>\n",
       "      <th>3</th>\n",
       "      <td>2021-11-06</td>\n",
       "      <td>4</td>\n",
       "      <td>Fancy Like</td>\n",
       "      <td>Walker Hayes</td>\n",
       "      <td>4.0</td>\n",
       "      <td>3</td>\n",
       "      <td>19</td>\n",
       "    </tr>\n",
       "    <tr>\n",
       "      <th>4</th>\n",
       "      <td>2021-11-06</td>\n",
       "      <td>5</td>\n",
       "      <td>Bad Habits</td>\n",
       "      <td>Ed Sheeran</td>\n",
       "      <td>5.0</td>\n",
       "      <td>2</td>\n",
       "      <td>18</td>\n",
       "    </tr>\n",
       "    <tr>\n",
       "      <th>...</th>\n",
       "      <td>...</td>\n",
       "      <td>...</td>\n",
       "      <td>...</td>\n",
       "      <td>...</td>\n",
       "      <td>...</td>\n",
       "      <td>...</td>\n",
       "      <td>...</td>\n",
       "    </tr>\n",
       "    <tr>\n",
       "      <th>330082</th>\n",
       "      <td>1958-08-04</td>\n",
       "      <td>96</td>\n",
       "      <td>Over And Over</td>\n",
       "      <td>Thurston Harris</td>\n",
       "      <td>NaN</td>\n",
       "      <td>96</td>\n",
       "      <td>1</td>\n",
       "    </tr>\n",
       "    <tr>\n",
       "      <th>330083</th>\n",
       "      <td>1958-08-04</td>\n",
       "      <td>97</td>\n",
       "      <td>I Believe In You</td>\n",
       "      <td>Robert &amp; Johnny</td>\n",
       "      <td>NaN</td>\n",
       "      <td>97</td>\n",
       "      <td>1</td>\n",
       "    </tr>\n",
       "    <tr>\n",
       "      <th>330084</th>\n",
       "      <td>1958-08-04</td>\n",
       "      <td>98</td>\n",
       "      <td>Little Serenade</td>\n",
       "      <td>The Ames Brothers</td>\n",
       "      <td>NaN</td>\n",
       "      <td>98</td>\n",
       "      <td>1</td>\n",
       "    </tr>\n",
       "    <tr>\n",
       "      <th>330085</th>\n",
       "      <td>1958-08-04</td>\n",
       "      <td>99</td>\n",
       "      <td>I'll Get By (As Long As I Have You)</td>\n",
       "      <td>Billy Williams</td>\n",
       "      <td>NaN</td>\n",
       "      <td>99</td>\n",
       "      <td>1</td>\n",
       "    </tr>\n",
       "    <tr>\n",
       "      <th>330086</th>\n",
       "      <td>1958-08-04</td>\n",
       "      <td>100</td>\n",
       "      <td>Judy</td>\n",
       "      <td>Frankie Vaughan</td>\n",
       "      <td>NaN</td>\n",
       "      <td>100</td>\n",
       "      <td>1</td>\n",
       "    </tr>\n",
       "  </tbody>\n",
       "</table>\n",
       "<p>330087 rows × 7 columns</p>\n",
       "</div>"
      ],
      "text/plain": [
       "              date  rank                                 song  \\\n",
       "0       2021-11-06     1                           Easy On Me   \n",
       "1       2021-11-06     2                                 Stay   \n",
       "2       2021-11-06     3                        Industry Baby   \n",
       "3       2021-11-06     4                           Fancy Like   \n",
       "4       2021-11-06     5                           Bad Habits   \n",
       "...            ...   ...                                  ...   \n",
       "330082  1958-08-04    96                        Over And Over   \n",
       "330083  1958-08-04    97                     I Believe In You   \n",
       "330084  1958-08-04    98                      Little Serenade   \n",
       "330085  1958-08-04    99  I'll Get By (As Long As I Have You)   \n",
       "330086  1958-08-04   100                                 Judy   \n",
       "\n",
       "                               artist  last-week  peak-rank  weeks-on-board  \n",
       "0                               Adele        1.0          1               3  \n",
       "1       The Kid LAROI & Justin Bieber        2.0          1              16  \n",
       "2             Lil Nas X & Jack Harlow        3.0          1              14  \n",
       "3                        Walker Hayes        4.0          3              19  \n",
       "4                          Ed Sheeran        5.0          2              18  \n",
       "...                               ...        ...        ...             ...  \n",
       "330082                Thurston Harris        NaN         96               1  \n",
       "330083                Robert & Johnny        NaN         97               1  \n",
       "330084              The Ames Brothers        NaN         98               1  \n",
       "330085                 Billy Williams        NaN         99               1  \n",
       "330086                Frankie Vaughan        NaN        100               1  \n",
       "\n",
       "[330087 rows x 7 columns]"
      ]
     },
     "execution_count": 17,
     "metadata": {},
     "output_type": "execute_result"
    }
   ],
   "source": [
    "charts"
   ]
  },
  {
   "cell_type": "code",
   "execution_count": null,
   "id": "30b259e2",
   "metadata": {},
   "outputs": [],
   "source": []
  }
 ],
 "metadata": {
  "kernelspec": {
   "display_name": "Python 3 (clean)",
   "language": "python",
   "name": "python3_clean"
  },
  "language_info": {
   "codemirror_mode": {
    "name": "ipython",
    "version": 3
   },
   "file_extension": ".py",
   "mimetype": "text/x-python",
   "name": "python",
   "nbconvert_exporter": "python",
   "pygments_lexer": "ipython3",
   "version": "3.9.5"
  }
 },
 "nbformat": 4,
 "nbformat_minor": 5
}
